{
 "cells": [
  {
   "cell_type": "markdown",
   "metadata": {},
   "source": [
    "##  1. import Libaray"
   ]
  },
  {
   "cell_type": "code",
   "execution_count": 57,
   "metadata": {},
   "outputs": [],
   "source": [
    "import pandas as pd\n",
    "import matplotlib.pyplot as plt\n",
    "import numpy as np\n",
    "from sklearn.preprocessing import MinMaxScaler"
   ]
  },
  {
   "cell_type": "markdown",
   "metadata": {},
   "source": [
    "## 2. Load data"
   ]
  },
  {
   "cell_type": "code",
   "execution_count": 21,
   "metadata": {},
   "outputs": [],
   "source": [
    "data=pd.read_csv(\"NSE.csv\")"
   ]
  },
  {
   "cell_type": "code",
   "execution_count": 22,
   "metadata": {
    "scrolled": false
   },
   "outputs": [
    {
     "data": {
      "text/html": [
       "<div>\n",
       "<style scoped>\n",
       "    .dataframe tbody tr th:only-of-type {\n",
       "        vertical-align: middle;\n",
       "    }\n",
       "\n",
       "    .dataframe tbody tr th {\n",
       "        vertical-align: top;\n",
       "    }\n",
       "\n",
       "    .dataframe thead th {\n",
       "        text-align: right;\n",
       "    }\n",
       "</style>\n",
       "<table border=\"1\" class=\"dataframe\">\n",
       "  <thead>\n",
       "    <tr style=\"text-align: right;\">\n",
       "      <th></th>\n",
       "      <th>Date</th>\n",
       "      <th>Open</th>\n",
       "      <th>High</th>\n",
       "      <th>Low</th>\n",
       "      <th>Last</th>\n",
       "      <th>Close</th>\n",
       "      <th>Total Trade Quantity</th>\n",
       "      <th>Turnover (Lacs)</th>\n",
       "    </tr>\n",
       "  </thead>\n",
       "  <tbody>\n",
       "    <tr>\n",
       "      <th>0</th>\n",
       "      <td>2018-10-08</td>\n",
       "      <td>208.00</td>\n",
       "      <td>222.25</td>\n",
       "      <td>206.85</td>\n",
       "      <td>216.00</td>\n",
       "      <td>215.15</td>\n",
       "      <td>4642146.0</td>\n",
       "      <td>10062.83</td>\n",
       "    </tr>\n",
       "    <tr>\n",
       "      <th>1</th>\n",
       "      <td>2018-10-05</td>\n",
       "      <td>217.00</td>\n",
       "      <td>218.60</td>\n",
       "      <td>205.90</td>\n",
       "      <td>210.25</td>\n",
       "      <td>209.20</td>\n",
       "      <td>3519515.0</td>\n",
       "      <td>7407.06</td>\n",
       "    </tr>\n",
       "    <tr>\n",
       "      <th>2</th>\n",
       "      <td>2018-10-04</td>\n",
       "      <td>223.50</td>\n",
       "      <td>227.80</td>\n",
       "      <td>216.15</td>\n",
       "      <td>217.25</td>\n",
       "      <td>218.20</td>\n",
       "      <td>1728786.0</td>\n",
       "      <td>3815.79</td>\n",
       "    </tr>\n",
       "    <tr>\n",
       "      <th>3</th>\n",
       "      <td>2018-10-03</td>\n",
       "      <td>230.00</td>\n",
       "      <td>237.50</td>\n",
       "      <td>225.75</td>\n",
       "      <td>226.45</td>\n",
       "      <td>227.60</td>\n",
       "      <td>1708590.0</td>\n",
       "      <td>3960.27</td>\n",
       "    </tr>\n",
       "    <tr>\n",
       "      <th>4</th>\n",
       "      <td>2018-10-01</td>\n",
       "      <td>234.55</td>\n",
       "      <td>234.60</td>\n",
       "      <td>221.05</td>\n",
       "      <td>230.30</td>\n",
       "      <td>230.90</td>\n",
       "      <td>1534749.0</td>\n",
       "      <td>3486.05</td>\n",
       "    </tr>\n",
       "  </tbody>\n",
       "</table>\n",
       "</div>"
      ],
      "text/plain": [
       "         Date    Open    High     Low    Last   Close  Total Trade Quantity  \\\n",
       "0  2018-10-08  208.00  222.25  206.85  216.00  215.15             4642146.0   \n",
       "1  2018-10-05  217.00  218.60  205.90  210.25  209.20             3519515.0   \n",
       "2  2018-10-04  223.50  227.80  216.15  217.25  218.20             1728786.0   \n",
       "3  2018-10-03  230.00  237.50  225.75  226.45  227.60             1708590.0   \n",
       "4  2018-10-01  234.55  234.60  221.05  230.30  230.90             1534749.0   \n",
       "\n",
       "   Turnover (Lacs)  \n",
       "0         10062.83  \n",
       "1          7407.06  \n",
       "2          3815.79  \n",
       "3          3960.27  \n",
       "4          3486.05  "
      ]
     },
     "execution_count": 22,
     "metadata": {},
     "output_type": "execute_result"
    }
   ],
   "source": [
    "data.head()"
   ]
  },
  {
   "cell_type": "code",
   "execution_count": 6,
   "metadata": {
    "scrolled": true
   },
   "outputs": [
    {
     "data": {
      "text/html": [
       "<div>\n",
       "<style scoped>\n",
       "    .dataframe tbody tr th:only-of-type {\n",
       "        vertical-align: middle;\n",
       "    }\n",
       "\n",
       "    .dataframe tbody tr th {\n",
       "        vertical-align: top;\n",
       "    }\n",
       "\n",
       "    .dataframe thead th {\n",
       "        text-align: right;\n",
       "    }\n",
       "</style>\n",
       "<table border=\"1\" class=\"dataframe\">\n",
       "  <thead>\n",
       "    <tr style=\"text-align: right;\">\n",
       "      <th></th>\n",
       "      <th>Date</th>\n",
       "      <th>Open</th>\n",
       "      <th>High</th>\n",
       "      <th>Low</th>\n",
       "      <th>Last</th>\n",
       "      <th>Close</th>\n",
       "      <th>Total Trade Quantity</th>\n",
       "      <th>Turnover (Lacs)</th>\n",
       "    </tr>\n",
       "  </thead>\n",
       "  <tbody>\n",
       "    <tr>\n",
       "      <th>1230</th>\n",
       "      <td>2013-10-14</td>\n",
       "      <td>160.85</td>\n",
       "      <td>161.45</td>\n",
       "      <td>157.70</td>\n",
       "      <td>159.3</td>\n",
       "      <td>159.45</td>\n",
       "      <td>1281419.0</td>\n",
       "      <td>2039.09</td>\n",
       "    </tr>\n",
       "    <tr>\n",
       "      <th>1231</th>\n",
       "      <td>2013-10-11</td>\n",
       "      <td>161.15</td>\n",
       "      <td>163.45</td>\n",
       "      <td>159.00</td>\n",
       "      <td>159.8</td>\n",
       "      <td>160.05</td>\n",
       "      <td>1880046.0</td>\n",
       "      <td>3030.76</td>\n",
       "    </tr>\n",
       "    <tr>\n",
       "      <th>1232</th>\n",
       "      <td>2013-10-10</td>\n",
       "      <td>156.00</td>\n",
       "      <td>160.80</td>\n",
       "      <td>155.85</td>\n",
       "      <td>160.3</td>\n",
       "      <td>160.15</td>\n",
       "      <td>3124853.0</td>\n",
       "      <td>4978.80</td>\n",
       "    </tr>\n",
       "    <tr>\n",
       "      <th>1233</th>\n",
       "      <td>2013-10-09</td>\n",
       "      <td>155.70</td>\n",
       "      <td>158.20</td>\n",
       "      <td>154.15</td>\n",
       "      <td>155.3</td>\n",
       "      <td>155.55</td>\n",
       "      <td>2049580.0</td>\n",
       "      <td>3204.49</td>\n",
       "    </tr>\n",
       "    <tr>\n",
       "      <th>1234</th>\n",
       "      <td>2013-10-08</td>\n",
       "      <td>157.00</td>\n",
       "      <td>157.80</td>\n",
       "      <td>155.20</td>\n",
       "      <td>155.8</td>\n",
       "      <td>155.80</td>\n",
       "      <td>1720413.0</td>\n",
       "      <td>2688.94</td>\n",
       "    </tr>\n",
       "  </tbody>\n",
       "</table>\n",
       "</div>"
      ],
      "text/plain": [
       "            Date    Open    High     Low   Last   Close  Total Trade Quantity  \\\n",
       "1230  2013-10-14  160.85  161.45  157.70  159.3  159.45             1281419.0   \n",
       "1231  2013-10-11  161.15  163.45  159.00  159.8  160.05             1880046.0   \n",
       "1232  2013-10-10  156.00  160.80  155.85  160.3  160.15             3124853.0   \n",
       "1233  2013-10-09  155.70  158.20  154.15  155.3  155.55             2049580.0   \n",
       "1234  2013-10-08  157.00  157.80  155.20  155.8  155.80             1720413.0   \n",
       "\n",
       "      Turnover (Lacs)  \n",
       "1230          2039.09  \n",
       "1231          3030.76  \n",
       "1232          4978.80  \n",
       "1233          3204.49  \n",
       "1234          2688.94  "
      ]
     },
     "execution_count": 6,
     "metadata": {},
     "output_type": "execute_result"
    }
   ],
   "source": [
    "data.tail()"
   ]
  },
  {
   "cell_type": "code",
   "execution_count": 24,
   "metadata": {},
   "outputs": [
    {
     "name": "stdout",
     "output_type": "stream",
     "text": [
      "<class 'pandas._libs.tslibs.timestamps.Timestamp'>\n"
     ]
    }
   ],
   "source": [
    "# sort with date \n",
    "data['Date']=pd.to_datetime(data['Date'])\n",
    "print(type(data.Date[0]))"
   ]
  },
  {
   "cell_type": "code",
   "execution_count": 25,
   "metadata": {
    "scrolled": true
   },
   "outputs": [
    {
     "data": {
      "text/html": [
       "<div>\n",
       "<style scoped>\n",
       "    .dataframe tbody tr th:only-of-type {\n",
       "        vertical-align: middle;\n",
       "    }\n",
       "\n",
       "    .dataframe tbody tr th {\n",
       "        vertical-align: top;\n",
       "    }\n",
       "\n",
       "    .dataframe thead th {\n",
       "        text-align: right;\n",
       "    }\n",
       "</style>\n",
       "<table border=\"1\" class=\"dataframe\">\n",
       "  <thead>\n",
       "    <tr style=\"text-align: right;\">\n",
       "      <th></th>\n",
       "      <th>Date</th>\n",
       "      <th>Open</th>\n",
       "      <th>High</th>\n",
       "      <th>Low</th>\n",
       "      <th>Last</th>\n",
       "      <th>Close</th>\n",
       "      <th>Total Trade Quantity</th>\n",
       "      <th>Turnover (Lacs)</th>\n",
       "    </tr>\n",
       "  </thead>\n",
       "  <tbody>\n",
       "    <tr>\n",
       "      <th>1234</th>\n",
       "      <td>2013-10-08</td>\n",
       "      <td>157.00</td>\n",
       "      <td>157.80</td>\n",
       "      <td>155.20</td>\n",
       "      <td>155.8</td>\n",
       "      <td>155.80</td>\n",
       "      <td>1720413.0</td>\n",
       "      <td>2688.94</td>\n",
       "    </tr>\n",
       "    <tr>\n",
       "      <th>1233</th>\n",
       "      <td>2013-10-09</td>\n",
       "      <td>155.70</td>\n",
       "      <td>158.20</td>\n",
       "      <td>154.15</td>\n",
       "      <td>155.3</td>\n",
       "      <td>155.55</td>\n",
       "      <td>2049580.0</td>\n",
       "      <td>3204.49</td>\n",
       "    </tr>\n",
       "    <tr>\n",
       "      <th>1232</th>\n",
       "      <td>2013-10-10</td>\n",
       "      <td>156.00</td>\n",
       "      <td>160.80</td>\n",
       "      <td>155.85</td>\n",
       "      <td>160.3</td>\n",
       "      <td>160.15</td>\n",
       "      <td>3124853.0</td>\n",
       "      <td>4978.80</td>\n",
       "    </tr>\n",
       "    <tr>\n",
       "      <th>1231</th>\n",
       "      <td>2013-10-11</td>\n",
       "      <td>161.15</td>\n",
       "      <td>163.45</td>\n",
       "      <td>159.00</td>\n",
       "      <td>159.8</td>\n",
       "      <td>160.05</td>\n",
       "      <td>1880046.0</td>\n",
       "      <td>3030.76</td>\n",
       "    </tr>\n",
       "    <tr>\n",
       "      <th>1230</th>\n",
       "      <td>2013-10-14</td>\n",
       "      <td>160.85</td>\n",
       "      <td>161.45</td>\n",
       "      <td>157.70</td>\n",
       "      <td>159.3</td>\n",
       "      <td>159.45</td>\n",
       "      <td>1281419.0</td>\n",
       "      <td>2039.09</td>\n",
       "    </tr>\n",
       "  </tbody>\n",
       "</table>\n",
       "</div>"
      ],
      "text/plain": [
       "           Date    Open    High     Low   Last   Close  Total Trade Quantity  \\\n",
       "1234 2013-10-08  157.00  157.80  155.20  155.8  155.80             1720413.0   \n",
       "1233 2013-10-09  155.70  158.20  154.15  155.3  155.55             2049580.0   \n",
       "1232 2013-10-10  156.00  160.80  155.85  160.3  160.15             3124853.0   \n",
       "1231 2013-10-11  161.15  163.45  159.00  159.8  160.05             1880046.0   \n",
       "1230 2013-10-14  160.85  161.45  157.70  159.3  159.45             1281419.0   \n",
       "\n",
       "      Turnover (Lacs)  \n",
       "1234          2688.94  \n",
       "1233          3204.49  \n",
       "1232          4978.80  \n",
       "1231          3030.76  \n",
       "1230          2039.09  "
      ]
     },
     "execution_count": 25,
     "metadata": {},
     "output_type": "execute_result"
    }
   ],
   "source": [
    "df=data.sort_values(by='Date')\n",
    "df.head()"
   ]
  },
  {
   "cell_type": "code",
   "execution_count": 26,
   "metadata": {},
   "outputs": [],
   "source": [
    "df.reset_index(inplace=True)"
   ]
  },
  {
   "cell_type": "code",
   "execution_count": 29,
   "metadata": {},
   "outputs": [
    {
     "data": {
      "text/html": [
       "<div>\n",
       "<style scoped>\n",
       "    .dataframe tbody tr th:only-of-type {\n",
       "        vertical-align: middle;\n",
       "    }\n",
       "\n",
       "    .dataframe tbody tr th {\n",
       "        vertical-align: top;\n",
       "    }\n",
       "\n",
       "    .dataframe thead th {\n",
       "        text-align: right;\n",
       "    }\n",
       "</style>\n",
       "<table border=\"1\" class=\"dataframe\">\n",
       "  <thead>\n",
       "    <tr style=\"text-align: right;\">\n",
       "      <th></th>\n",
       "      <th>index</th>\n",
       "      <th>Date</th>\n",
       "      <th>Open</th>\n",
       "      <th>High</th>\n",
       "      <th>Low</th>\n",
       "      <th>Last</th>\n",
       "      <th>Close</th>\n",
       "      <th>Total Trade Quantity</th>\n",
       "      <th>Turnover (Lacs)</th>\n",
       "    </tr>\n",
       "  </thead>\n",
       "  <tbody>\n",
       "    <tr>\n",
       "      <th>0</th>\n",
       "      <td>1234</td>\n",
       "      <td>2013-10-08</td>\n",
       "      <td>157.00</td>\n",
       "      <td>157.80</td>\n",
       "      <td>155.20</td>\n",
       "      <td>155.8</td>\n",
       "      <td>155.80</td>\n",
       "      <td>1720413.0</td>\n",
       "      <td>2688.94</td>\n",
       "    </tr>\n",
       "    <tr>\n",
       "      <th>1</th>\n",
       "      <td>1233</td>\n",
       "      <td>2013-10-09</td>\n",
       "      <td>155.70</td>\n",
       "      <td>158.20</td>\n",
       "      <td>154.15</td>\n",
       "      <td>155.3</td>\n",
       "      <td>155.55</td>\n",
       "      <td>2049580.0</td>\n",
       "      <td>3204.49</td>\n",
       "    </tr>\n",
       "    <tr>\n",
       "      <th>2</th>\n",
       "      <td>1232</td>\n",
       "      <td>2013-10-10</td>\n",
       "      <td>156.00</td>\n",
       "      <td>160.80</td>\n",
       "      <td>155.85</td>\n",
       "      <td>160.3</td>\n",
       "      <td>160.15</td>\n",
       "      <td>3124853.0</td>\n",
       "      <td>4978.80</td>\n",
       "    </tr>\n",
       "    <tr>\n",
       "      <th>3</th>\n",
       "      <td>1231</td>\n",
       "      <td>2013-10-11</td>\n",
       "      <td>161.15</td>\n",
       "      <td>163.45</td>\n",
       "      <td>159.00</td>\n",
       "      <td>159.8</td>\n",
       "      <td>160.05</td>\n",
       "      <td>1880046.0</td>\n",
       "      <td>3030.76</td>\n",
       "    </tr>\n",
       "    <tr>\n",
       "      <th>4</th>\n",
       "      <td>1230</td>\n",
       "      <td>2013-10-14</td>\n",
       "      <td>160.85</td>\n",
       "      <td>161.45</td>\n",
       "      <td>157.70</td>\n",
       "      <td>159.3</td>\n",
       "      <td>159.45</td>\n",
       "      <td>1281419.0</td>\n",
       "      <td>2039.09</td>\n",
       "    </tr>\n",
       "  </tbody>\n",
       "</table>\n",
       "</div>"
      ],
      "text/plain": [
       "   index       Date    Open    High     Low   Last   Close  \\\n",
       "0   1234 2013-10-08  157.00  157.80  155.20  155.8  155.80   \n",
       "1   1233 2013-10-09  155.70  158.20  154.15  155.3  155.55   \n",
       "2   1232 2013-10-10  156.00  160.80  155.85  160.3  160.15   \n",
       "3   1231 2013-10-11  161.15  163.45  159.00  159.8  160.05   \n",
       "4   1230 2013-10-14  160.85  161.45  157.70  159.3  159.45   \n",
       "\n",
       "   Total Trade Quantity  Turnover (Lacs)  \n",
       "0             1720413.0          2688.94  \n",
       "1             2049580.0          3204.49  \n",
       "2             3124853.0          4978.80  \n",
       "3             1880046.0          3030.76  \n",
       "4             1281419.0          2039.09  "
      ]
     },
     "execution_count": 29,
     "metadata": {},
     "output_type": "execute_result"
    }
   ],
   "source": [
    "df.head()"
   ]
  },
  {
   "cell_type": "code",
   "execution_count": 30,
   "metadata": {
    "scrolled": false
   },
   "outputs": [
    {
     "data": {
      "text/plain": [
       "[<matplotlib.lines.Line2D at 0x189c47e7588>]"
      ]
     },
     "execution_count": 30,
     "metadata": {},
     "output_type": "execute_result"
    },
    {
     "data": {
      "image/png": "[encoded data removed]",
      "text/plain": [
       "<Figure size 432x288 with 1 Axes>"
      ]
     },
     "metadata": {
      "needs_background": "light"
     },
     "output_type": "display_data"
    }
   ],
   "source": [
    "plt.plot(df['Close'])"
   ]
  },
  {
   "cell_type": "code",
   "execution_count": 34,
   "metadata": {},
   "outputs": [],
   "source": [
    "df1=df['Close']"
   ]
  },
  {
   "cell_type": "markdown",
   "metadata": {},
   "source": [
    "## 3. prepare data "
   ]
  },
  {
   "cell_type": "code",
   "execution_count": 36,
   "metadata": {},
   "outputs": [
    {
     "data": {
      "text/plain": [
       "array([[0.23823398],\n",
       "       [0.2371134 ],\n",
       "       [0.25773196],\n",
       "       ...,\n",
       "       [0.51792918],\n",
       "       [0.47758853],\n",
       "       [0.50425818]])"
      ]
     },
     "execution_count": 36,
     "metadata": {},
     "output_type": "execute_result"
    }
   ],
   "source": [
    "### LSTM are sensitive to the scale of the data. so we apply MinMax scaler \n",
    "scaler=MinMaxScaler(feature_range=(0,1))\n",
    "df1=scaler.fit_transform(np.array(df1).reshape(-1,1))\n",
    "df1"
   ]
  },
  {
   "cell_type": "code",
   "execution_count": 39,
   "metadata": {},
   "outputs": [],
   "source": [
    "##splitting dataset into train and test split\n",
    "training_size=int(len(df1)*0.70)\n",
    "test_size=len(df1)-training_size\n",
    "train_data,test_data=df1[0:training_size,:],df1[training_size:len(df1),:1]"
   ]
  },
  {
   "cell_type": "code",
   "execution_count": 40,
   "metadata": {},
   "outputs": [
    {
     "data": {
      "text/plain": [
       "(864, 371)"
      ]
     },
     "execution_count": 40,
     "metadata": {},
     "output_type": "execute_result"
    }
   ],
   "source": [
    "training_size,test_size"
   ]
  },
  {
   "cell_type": "code",
   "execution_count": 44,
   "metadata": {},
   "outputs": [],
   "source": [
    "# convert an array of values into a dataset matrix\n",
    "def create_dataset(dataset, time_step=1):\n",
    "\tdataX, dataY = [], []\n",
    "\tfor i in range(len(dataset)-time_step-1):\n",
    "\t\ta = dataset[i:(i+time_step), 0]   ###i=0, 0,1,2,3-----99   100 \n",
    "\t\tdataX.append(a)\n",
    "\t\tdataY.append(dataset[i + time_step, 0])\n",
    "\treturn np.array(dataX), np.array(dataY)"
   ]
  },
  {
   "cell_type": "code",
   "execution_count": 45,
   "metadata": {},
   "outputs": [],
   "source": [
    "# reshape into X=t,t+1,t+2,t+3 and Y=t+4\n",
    "time_step = 100\n",
    "X_train, y_train = create_dataset(train_data, time_step)\n",
    "X_test, ytest = create_dataset(test_data, time_step)"
   ]
  },
  {
   "cell_type": "code",
   "execution_count": 46,
   "metadata": {},
   "outputs": [
    {
     "name": "stdout",
     "output_type": "stream",
     "text": [
      "(763, 100)\n",
      "(763,)\n"
     ]
    },
    {
     "data": {
      "text/plain": [
       "(None, None)"
      ]
     },
     "execution_count": 46,
     "metadata": {},
     "output_type": "execute_result"
    }
   ],
   "source": [
    "print(X_train.shape), print(y_train.shape)"
   ]
  },
  {
   "cell_type": "code",
   "execution_count": 47,
   "metadata": {
    "scrolled": true
   },
   "outputs": [
    {
     "name": "stdout",
     "output_type": "stream",
     "text": [
      "(270, 100)\n",
      "(270,)\n"
     ]
    },
    {
     "data": {
      "text/plain": [
       "(None, None)"
      ]
     },
     "execution_count": 47,
     "metadata": {},
     "output_type": "execute_result"
    }
   ],
   "source": [
    "print(X_test.shape), print(ytest.shape)"
   ]
  },
  {
   "cell_type": "code",
   "execution_count": 48,
   "metadata": {},
   "outputs": [],
   "source": [
    "# reshape input to be [samples, time steps, features] which is required for LSTM\n",
    "X_train =X_train.reshape(X_train.shape[0],X_train.shape[1] , 1)\n",
    "X_test = X_test.reshape(X_test.shape[0],X_test.shape[1] , 1)"
   ]
  },
  {
   "cell_type": "markdown",
   "metadata": {},
   "source": [
    "## 4.model building"
   ]
  },
  {
   "cell_type": "code",
   "execution_count": 49,
   "metadata": {},
   "outputs": [],
   "source": [
    "### Create the Stacked LSTM model\n",
    "from tensorflow.keras.models import Sequential\n",
    "from tensorflow.keras.layers import Dense\n",
    "from tensorflow.keras.layers import LSTM"
   ]
  },
  {
   "cell_type": "code",
   "execution_count": 51,
   "metadata": {},
   "outputs": [
    {
     "name": "stdout",
     "output_type": "stream",
     "text": [
      "_________________________________________________________________\n",
      "Layer (type)                 Output Shape              Param #   \n",
      "=================================================================\n",
      "lstm_3 (LSTM)                (None, 100, 50)           10400     \n",
      "_________________________________________________________________\n",
      "lstm_4 (LSTM)                (None, 100, 50)           20200     \n",
      "_________________________________________________________________\n",
      "lstm_5 (LSTM)                (None, 50)                20200     \n",
      "_________________________________________________________________\n",
      "dense_1 (Dense)              (None, 1)                 51        \n",
      "=================================================================\n",
      "Total params: 50,851\n",
      "Trainable params: 50,851\n",
      "Non-trainable params: 0\n",
      "_________________________________________________________________\n"
     ]
    }
   ],
   "source": [
    "model=Sequential()\n",
    "model.add(LSTM(50,return_sequences=True,input_shape=(100,1)))\n",
    "model.add(LSTM(50,return_sequences=True))\n",
    "model.add(LSTM(50))\n",
    "model.add(Dense(1))\n",
    "model.compile(loss='mean_squared_error',optimizer='adam')\n",
    "model.summary()"
   ]
  },
  {
   "cell_type": "code",
   "execution_count": 54,
   "metadata": {
    "scrolled": false
   },
   "outputs": [
    {
     "name": "stdout",
     "output_type": "stream",
     "text": [
      "Train on 686 samples, validate on 77 samples\n",
      "Epoch 1/60\n",
      "686/686 [==============================] - 4s 6ms/sample - loss: 2.2819e-04 - val_loss: 1.3670e-04\n",
      "Epoch 2/60\n",
      "686/686 [==============================] - 4s 6ms/sample - loss: 2.2352e-04 - val_loss: 1.4367e-04\n",
      "Epoch 3/60\n",
      "686/686 [==============================] - 5s 7ms/sample - loss: 2.1545e-04 - val_loss: 1.3348e-04\n",
      "Epoch 4/60\n",
      "686/686 [==============================] - 4s 6ms/sample - loss: 2.1313e-04 - val_loss: 1.9827e-04\n",
      "Epoch 5/60\n",
      "686/686 [==============================] - 4s 6ms/sample - loss: 2.1841e-04 - val_loss: 1.2992e-04\n",
      "Epoch 6/60\n",
      "686/686 [==============================] - 4s 6ms/sample - loss: 2.0643e-04 - val_loss: 1.4275e-04\n",
      "Epoch 7/60\n",
      "686/686 [==============================] - 4s 6ms/sample - loss: 1.9939e-04 - val_loss: 1.2444e-04\n",
      "Epoch 8/60\n",
      "686/686 [==============================] - 4s 6ms/sample - loss: 1.9945e-04 - val_loss: 1.3315e-04\n",
      "Epoch 9/60\n",
      "686/686 [==============================] - 4s 6ms/sample - loss: 1.9261e-04 - val_loss: 1.2062e-04\n",
      "Epoch 10/60\n",
      "686/686 [==============================] - 4s 6ms/sample - loss: 1.8733e-04 - val_loss: 1.1921e-04\n",
      "Epoch 11/60\n",
      "686/686 [==============================] - 4s 6ms/sample - loss: 1.9119e-04 - val_loss: 1.7768e-04\n",
      "Epoch 12/60\n",
      "686/686 [==============================] - 4s 6ms/sample - loss: 2.1171e-04 - val_loss: 1.2090e-04\n",
      "Epoch 13/60\n",
      "686/686 [==============================] - 4s 6ms/sample - loss: 1.8517e-04 - val_loss: 1.2474e-04\n",
      "Epoch 14/60\n",
      "686/686 [==============================] - 4s 6ms/sample - loss: 1.7937e-04 - val_loss: 1.2842e-04\n",
      "Epoch 15/60\n",
      "686/686 [==============================] - 4s 6ms/sample - loss: 1.7862e-04 - val_loss: 1.1290e-04\n",
      "Epoch 16/60\n",
      "686/686 [==============================] - 4s 6ms/sample - loss: 1.7187e-04 - val_loss: 1.1137e-04\n",
      "Epoch 17/60\n",
      "686/686 [==============================] - 4s 6ms/sample - loss: 1.6456e-04 - val_loss: 1.1488e-04\n",
      "Epoch 18/60\n",
      "686/686 [==============================] - 5s 7ms/sample - loss: 1.6656e-04 - val_loss: 1.1175e-04\n",
      "Epoch 19/60\n",
      "686/686 [==============================] - 4s 6ms/sample - loss: 1.6868e-04 - val_loss: 1.0951e-04\n",
      "Epoch 20/60\n",
      "686/686 [==============================] - 4s 6ms/sample - loss: 1.6815e-04 - val_loss: 1.1223e-04\n",
      "Epoch 21/60\n",
      "686/686 [==============================] - 4s 6ms/sample - loss: 1.6682e-04 - val_loss: 1.2217e-04\n",
      "Epoch 22/60\n",
      "686/686 [==============================] - 4s 6ms/sample - loss: 1.7260e-04 - val_loss: 1.1151e-04\n",
      "Epoch 23/60\n",
      "686/686 [==============================] - 4s 6ms/sample - loss: 1.8266e-04 - val_loss: 1.0629e-04\n",
      "Epoch 24/60\n",
      "686/686 [==============================] - 4s 6ms/sample - loss: 1.5849e-04 - val_loss: 1.0665e-04\n",
      "Epoch 25/60\n",
      "686/686 [==============================] - 4s 6ms/sample - loss: 1.5525e-04 - val_loss: 1.2583e-04\n",
      "Epoch 26/60\n",
      "686/686 [==============================] - 4s 6ms/sample - loss: 1.6389e-04 - val_loss: 1.1006e-04\n",
      "Epoch 27/60\n",
      "686/686 [==============================] - 4s 6ms/sample - loss: 1.5937e-04 - val_loss: 1.0937e-04\n",
      "Epoch 28/60\n",
      "686/686 [==============================] - 4s 6ms/sample - loss: 1.7811e-04 - val_loss: 1.0486e-04\n",
      "Epoch 29/60\n",
      "686/686 [==============================] - 4s 6ms/sample - loss: 1.6645e-04 - val_loss: 1.3686e-04\n",
      "Epoch 30/60\n",
      "686/686 [==============================] - 5s 7ms/sample - loss: 1.6452e-04 - val_loss: 1.1558e-04\n",
      "Epoch 31/60\n",
      "686/686 [==============================] - 5s 7ms/sample - loss: 1.5784e-04 - val_loss: 1.1783e-04\n",
      "Epoch 32/60\n",
      "686/686 [==============================] - 5s 7ms/sample - loss: 1.5498e-04 - val_loss: 1.0349e-04\n",
      "Epoch 33/60\n",
      "686/686 [==============================] - 4s 6ms/sample - loss: 1.5572e-04 - val_loss: 1.0590e-04\n",
      "Epoch 34/60\n",
      "686/686 [==============================] - 4s 6ms/sample - loss: 1.5710e-04 - val_loss: 1.0301e-04\n",
      "Epoch 35/60\n",
      "686/686 [==============================] - 4s 6ms/sample - loss: 1.6105e-04 - val_loss: 1.4946e-04\n",
      "Epoch 36/60\n",
      "686/686 [==============================] - 4s 6ms/sample - loss: 1.6835e-04 - val_loss: 1.0483e-04\n",
      "Epoch 37/60\n",
      "686/686 [==============================] - 4s 6ms/sample - loss: 1.6441e-04 - val_loss: 1.0314e-04\n",
      "Epoch 38/60\n",
      "686/686 [==============================] - 4s 6ms/sample - loss: 1.6240e-04 - val_loss: 1.0766e-04\n",
      "Epoch 39/60\n",
      "686/686 [==============================] - 4s 6ms/sample - loss: 1.6274e-04 - val_loss: 1.1193e-04\n",
      "Epoch 40/60\n",
      "686/686 [==============================] - 4s 6ms/sample - loss: 1.5003e-04 - val_loss: 1.0867e-04\n",
      "Epoch 41/60\n",
      "686/686 [==============================] - 4s 6ms/sample - loss: 1.5961e-04 - val_loss: 1.1192e-04\n",
      "Epoch 42/60\n",
      "686/686 [==============================] - 4s 6ms/sample - loss: 1.5805e-04 - val_loss: 1.1295e-04\n",
      "Epoch 43/60\n",
      "686/686 [==============================] - 5s 7ms/sample - loss: 1.4900e-04 - val_loss: 1.2079e-04\n",
      "Epoch 44/60\n",
      "686/686 [==============================] - 4s 6ms/sample - loss: 1.4857e-04 - val_loss: 1.0404e-04\n",
      "Epoch 45/60\n",
      "686/686 [==============================] - 4s 7ms/sample - loss: 1.4975e-04 - val_loss: 1.0508e-04\n",
      "Epoch 46/60\n",
      "686/686 [==============================] - 4s 6ms/sample - loss: 1.4631e-04 - val_loss: 1.0191e-04\n",
      "Epoch 47/60\n",
      "686/686 [==============================] - 4s 6ms/sample - loss: 1.6356e-04 - val_loss: 1.0786e-04\n",
      "Epoch 48/60\n",
      "686/686 [==============================] - 5s 7ms/sample - loss: 1.7679e-04 - val_loss: 1.5011e-04\n",
      "Epoch 49/60\n",
      "686/686 [==============================] - 4s 6ms/sample - loss: 1.6191e-04 - val_loss: 1.0134e-04\n",
      "Epoch 50/60\n",
      "686/686 [==============================] - 4s 6ms/sample - loss: 1.4854e-04 - val_loss: 1.1237e-04\n",
      "Epoch 51/60\n",
      "686/686 [==============================] - 4s 6ms/sample - loss: 1.6024e-04 - val_loss: 1.5646e-04\n",
      "Epoch 52/60\n",
      "686/686 [==============================] - 5s 7ms/sample - loss: 1.7561e-04 - val_loss: 1.2565e-04\n",
      "Epoch 53/60\n",
      "686/686 [==============================] - 5s 7ms/sample - loss: 1.7834e-04 - val_loss: 1.3686e-04\n",
      "Epoch 54/60\n",
      "686/686 [==============================] - 4s 6ms/sample - loss: 1.5360e-04 - val_loss: 1.0142e-04\n",
      "Epoch 55/60\n",
      "686/686 [==============================] - 4s 6ms/sample - loss: 1.4932e-04 - val_loss: 1.1204e-04\n",
      "Epoch 56/60\n",
      "686/686 [==============================] - 5s 7ms/sample - loss: 1.5274e-04 - val_loss: 1.1918e-04\n",
      "Epoch 57/60\n",
      "686/686 [==============================] - 5s 7ms/sample - loss: 1.5590e-04 - val_loss: 1.0352e-04\n",
      "Epoch 58/60\n",
      "686/686 [==============================] - 5s 7ms/sample - loss: 1.4597e-04 - val_loss: 1.0493e-04\n",
      "Epoch 59/60\n",
      "686/686 [==============================] - 4s 6ms/sample - loss: 1.4932e-04 - val_loss: 1.0282e-04\n",
      "Epoch 60/60\n",
      "686/686 [==============================] - 5s 7ms/sample - loss: 1.4643e-04 - val_loss: 1.1091e-04\n"
     ]
    },
    {
     "data": {
      "text/plain": [
       "<tensorflow.python.keras.callbacks.History at 0x189cedbd240>"
      ]
     },
     "execution_count": 54,
     "metadata": {},
     "output_type": "execute_result"
    }
   ],
   "source": [
    "model.fit(X_train,y_train,validation_split=0.1,epochs=60,batch_size=64,verbose=1)"
   ]
  },
  {
   "cell_type": "code",
   "execution_count": 67,
   "metadata": {},
   "outputs": [],
   "source": [
    "### Lets Do the prediction and check performance metrics\n",
    "test_predict=model.predict(X_test)"
   ]
  },
  {
   "cell_type": "code",
   "execution_count": 71,
   "metadata": {},
   "outputs": [],
   "source": [
    "##Transformback to original form\n",
    "test_predict1=scaler.inverse_transform(test_predict)"
   ]
  },
  {
   "cell_type": "code",
   "execution_count": 72,
   "metadata": {},
   "outputs": [
    {
     "data": {
      "text/plain": [
       "array([[0.38643333],\n",
       "       [0.4161328 ],\n",
       "       [0.46171895],\n",
       "       [0.43914735],\n",
       "       [0.4499515 ],\n",
       "       [0.4609513 ],\n",
       "       [0.4730552 ],\n",
       "       [0.43849945],\n",
       "       [0.484135  ],\n",
       "       [0.45876396],\n",
       "       [0.48503348],\n",
       "       [0.49333262],\n",
       "       [0.4712547 ],\n",
       "       [0.4723789 ],\n",
       "       [0.40627044],\n",
       "       [0.4134641 ],\n",
       "       [0.46840495],\n",
       "       [0.40580282],\n",
       "       [0.45573932],\n",
       "       [0.4530234 ],\n",
       "       [0.4520524 ],\n",
       "       [0.44166228],\n",
       "       [0.47405604],\n",
       "       [0.46135134],\n",
       "       [0.45674992],\n",
       "       [0.46189204],\n",
       "       [0.46727413],\n",
       "       [0.48145777],\n",
       "       [0.46337172],\n",
       "       [0.46690777],\n",
       "       [0.47182631],\n",
       "       [0.44783193],\n",
       "       [0.44592872],\n",
       "       [0.44061795],\n",
       "       [0.484544  ],\n",
       "       [0.4361999 ],\n",
       "       [0.48167902],\n",
       "       [0.529963  ],\n",
       "       [0.53922534],\n",
       "       [0.5266717 ],\n",
       "       [0.5363789 ],\n",
       "       [0.52479   ],\n",
       "       [0.52694553],\n",
       "       [0.59171367],\n",
       "       [0.4909013 ],\n",
       "       [0.54108053],\n",
       "       [0.6305125 ],\n",
       "       [0.54083234],\n",
       "       [0.5708019 ],\n",
       "       [0.6459541 ],\n",
       "       [0.6222938 ],\n",
       "       [0.6324489 ],\n",
       "       [0.6830672 ],\n",
       "       [0.7503965 ],\n",
       "       [0.68438727],\n",
       "       [0.7300648 ],\n",
       "       [0.71842325],\n",
       "       [0.75504965],\n",
       "       [0.7233134 ],\n",
       "       [0.82011867],\n",
       "       [0.69394666],\n",
       "       [0.8288171 ],\n",
       "       [0.72290474],\n",
       "       [0.7501916 ],\n",
       "       [0.7618416 ],\n",
       "       [0.7130159 ],\n",
       "       [0.8210119 ],\n",
       "       [0.7771744 ],\n",
       "       [0.8603635 ],\n",
       "       [0.71402115],\n",
       "       [0.795403  ],\n",
       "       [0.77055365],\n",
       "       [0.8007638 ],\n",
       "       [0.8121553 ],\n",
       "       [0.8689599 ],\n",
       "       [0.8150809 ],\n",
       "       [0.8392899 ],\n",
       "       [0.85495555],\n",
       "       [0.86546636],\n",
       "       [0.8511176 ],\n",
       "       [0.8715384 ],\n",
       "       [0.936009  ],\n",
       "       [0.84655225],\n",
       "       [0.89434844],\n",
       "       [0.881824  ],\n",
       "       [0.89449304],\n",
       "       [0.8928978 ],\n",
       "       [0.928471  ],\n",
       "       [0.87755555],\n",
       "       [0.9041657 ],\n",
       "       [0.89135134],\n",
       "       [0.99668896],\n",
       "       [0.88051075],\n",
       "       [0.900347  ],\n",
       "       [0.89876324],\n",
       "       [0.83892506],\n",
       "       [0.92267454],\n",
       "       [0.8702342 ],\n",
       "       [0.87745494],\n",
       "       [0.85772246],\n",
       "       [0.87499416],\n",
       "       [0.8450838 ],\n",
       "       [0.88512725],\n",
       "       [0.7471367 ],\n",
       "       [0.84552497],\n",
       "       [0.69064593],\n",
       "       [0.79266906],\n",
       "       [0.69178516],\n",
       "       [0.85807526],\n",
       "       [0.73403585],\n",
       "       [0.77232826],\n",
       "       [0.8174758 ],\n",
       "       [0.7456554 ],\n",
       "       [0.7706343 ],\n",
       "       [0.7423131 ],\n",
       "       [0.704306  ],\n",
       "       [0.70559144],\n",
       "       [0.745422  ],\n",
       "       [0.67519397],\n",
       "       [0.7840621 ],\n",
       "       [0.72689885],\n",
       "       [0.7555974 ],\n",
       "       [0.74305457],\n",
       "       [0.7420985 ],\n",
       "       [0.75235075],\n",
       "       [0.7341762 ],\n",
       "       [0.70707166],\n",
       "       [0.76981884],\n",
       "       [0.6859732 ],\n",
       "       [0.7982451 ],\n",
       "       [0.7392782 ],\n",
       "       [0.76226187],\n",
       "       [0.7611233 ],\n",
       "       [0.7019392 ],\n",
       "       [0.6612946 ],\n",
       "       [0.72578263],\n",
       "       [0.69563705],\n",
       "       [0.67023724],\n",
       "       [0.68477446],\n",
       "       [0.709709  ],\n",
       "       [0.6964515 ],\n",
       "       [0.65880466],\n",
       "       [0.8253456 ],\n",
       "       [0.68460524],\n",
       "       [0.7252977 ],\n",
       "       [0.7439114 ],\n",
       "       [0.724274  ],\n",
       "       [0.77579755],\n",
       "       [0.7207232 ],\n",
       "       [0.7415995 ],\n",
       "       [0.7375815 ],\n",
       "       [0.7510658 ],\n",
       "       [0.77202576],\n",
       "       [0.759905  ],\n",
       "       [0.7868212 ],\n",
       "       [0.78226465],\n",
       "       [0.7805797 ],\n",
       "       [0.7629579 ],\n",
       "       [0.7780348 ],\n",
       "       [0.8190187 ],\n",
       "       [0.7977711 ],\n",
       "       [0.8103576 ],\n",
       "       [0.8458735 ],\n",
       "       [0.77566916],\n",
       "       [0.78061306],\n",
       "       [0.80944574],\n",
       "       [0.83891577],\n",
       "       [0.7691013 ],\n",
       "       [0.83719945],\n",
       "       [0.74340886],\n",
       "       [0.82783926],\n",
       "       [0.5240736 ],\n",
       "       [0.6662519 ],\n",
       "       [0.6221912 ],\n",
       "       [0.6813033 ],\n",
       "       [0.608434  ],\n",
       "       [0.6330141 ],\n",
       "       [0.6466194 ],\n",
       "       [0.6509653 ],\n",
       "       [0.67337006],\n",
       "       [0.67842466],\n",
       "       [0.6905252 ],\n",
       "       [0.6567412 ],\n",
       "       [0.7342397 ],\n",
       "       [0.71866894],\n",
       "       [0.67044824],\n",
       "       [0.6494198 ],\n",
       "       [0.7433113 ],\n",
       "       [0.6925318 ],\n",
       "       [0.7206004 ],\n",
       "       [0.7027459 ],\n",
       "       [0.68531144],\n",
       "       [0.73189926],\n",
       "       [0.71454227],\n",
       "       [0.77881634],\n",
       "       [0.6850587 ],\n",
       "       [0.7704442 ],\n",
       "       [0.6598325 ],\n",
       "       [0.6882239 ],\n",
       "       [0.67298496],\n",
       "       [0.71343666],\n",
       "       [0.700761  ],\n",
       "       [0.7196807 ],\n",
       "       [0.68898   ],\n",
       "       [0.69502336],\n",
       "       [0.7383243 ],\n",
       "       [0.6666227 ],\n",
       "       [0.83753157],\n",
       "       [0.68787044],\n",
       "       [0.7255499 ],\n",
       "       [0.69155097],\n",
       "       [0.7870653 ],\n",
       "       [0.7144182 ],\n",
       "       [0.71286184],\n",
       "       [0.6936268 ],\n",
       "       [0.6647332 ],\n",
       "       [0.5732463 ],\n",
       "       [0.69046366],\n",
       "       [0.54904795],\n",
       "       [0.59226936],\n",
       "       [0.62271005],\n",
       "       [0.6253208 ],\n",
       "       [0.63279617],\n",
       "       [0.5528499 ],\n",
       "       [0.6253099 ],\n",
       "       [0.61063033],\n",
       "       [0.6106173 ],\n",
       "       [0.64457595],\n",
       "       [0.5384223 ],\n",
       "       [0.6088868 ],\n",
       "       [0.5726366 ],\n",
       "       [0.62299865],\n",
       "       [0.5768909 ],\n",
       "       [0.5900495 ],\n",
       "       [0.5924063 ],\n",
       "       [0.5620307 ],\n",
       "       [0.58876073],\n",
       "       [0.5956239 ],\n",
       "       [0.59831965],\n",
       "       [0.6182386 ],\n",
       "       [0.61683893],\n",
       "       [0.5809597 ],\n",
       "       [0.5712226 ],\n",
       "       [0.5554417 ],\n",
       "       [0.6129195 ],\n",
       "       [0.5504998 ],\n",
       "       [0.5909554 ],\n",
       "       [0.5806401 ],\n",
       "       [0.5687952 ],\n",
       "       [0.59306353],\n",
       "       [0.48796862],\n",
       "       [0.54642665],\n",
       "       [0.51687497],\n",
       "       [0.5420717 ],\n",
       "       [0.52148384],\n",
       "       [0.48829362],\n",
       "       [0.55311376],\n",
       "       [0.5929104 ],\n",
       "       [0.5747628 ],\n",
       "       [0.5654571 ],\n",
       "       [0.5717034 ],\n",
       "       [0.56944716],\n",
       "       [0.564275  ],\n",
       "       [0.5894197 ],\n",
       "       [0.5623456 ],\n",
       "       [0.5700172 ],\n",
       "       [0.5722416 ],\n",
       "       [0.5504333 ],\n",
       "       [0.5416412 ],\n",
       "       [0.4868708 ]], dtype=float32)"
      ]
     },
     "execution_count": 72,
     "metadata": {},
     "output_type": "execute_result"
    }
   ],
   "source": [
    "test_predict1"
   ]
  },
  {
   "cell_type": "code",
   "execution_count": 80,
   "metadata": {},
   "outputs": [
    {
     "data": {
      "text/plain": [
       "0.04601286742348905"
      ]
     },
     "execution_count": 80,
     "metadata": {},
     "output_type": "execute_result"
    }
   ],
   "source": [
    "### Calculate RMSE performance metrics\n",
    "import math\n",
    "from sklearn.metrics import mean_squared_error\n",
    "math.sqrt(mean_squared_error(ytest,test_predict))"
   ]
  }
 ],
 "metadata": {
  "kernelspec": {
   "display_name": "Python 3",
   "language": "python",
   "name": "python3"
  },
  "language_info": {
   "codemirror_mode": {
    "name": "ipython",
    "version": 3
   },
   "file_extension": ".py",
   "mimetype": "text/x-python",
   "name": "python",
   "nbconvert_exporter": "python",
   "pygments_lexer": "ipython3",
   "version": "3.7.3"
  }
 },
 "nbformat": 4,
 "nbformat_minor": 2
}
